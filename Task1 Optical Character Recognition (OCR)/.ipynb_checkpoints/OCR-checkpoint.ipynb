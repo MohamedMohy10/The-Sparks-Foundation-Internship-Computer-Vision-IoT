{
 "cells": [
  {
   "cell_type": "markdown",
   "id": "867cf745",
   "metadata": {},
   "source": [
    "# Name: Mohamed Mohy"
   ]
  },
  {
   "cell_type": "markdown",
   "id": "3c71afe4",
   "metadata": {},
   "source": [
    "# Task1 : Optical Character Recognition (OCR)"
   ]
  },
  {
   "cell_type": "code",
   "execution_count": null,
   "id": "98918403",
   "metadata": {},
   "outputs": [],
   "source": [
    "# Import required packages for text recognition\n",
    "import cv2  # for image processing\n",
    "import pytesseract  # for image-to-text\n",
    "import matplotlib.pyplot as plt # for display"
   ]
  },
  {
   "cell_type": "code",
   "execution_count": null,
   "id": "e0e4c242",
   "metadata": {},
   "outputs": [],
   "source": [
    "# Read image from which text needs to be extracted\n",
    "img = cv2.imread(\"test_img.png\")\n",
    "plt.imshow(img)"
   ]
  },
  {
   "cell_type": "code",
   "execution_count": null,
   "id": "6d342a87",
   "metadata": {},
   "outputs": [],
   "source": [
    "# Configure pytesseract module\n",
    "pytesseract.pytesseract.tesseract_cmd = r'C:\\Program Files\\Tesseract-OCR\\tesseract.exe'"
   ]
  },
  {
   "cell_type": "markdown",
   "id": "73b04111",
   "metadata": {},
   "source": [
    "### Image Preprocessing  "
   ]
  },
  {
   "cell_type": "code",
   "execution_count": null,
   "id": "af68d76e",
   "metadata": {},
   "outputs": [],
   "source": [
    "# Convert the image to gray scale\n",
    "img_gray = cv2.cvtColor(img, cv2.COLOR_BGR2GRAY)"
   ]
  },
  {
   "cell_type": "code",
   "execution_count": null,
   "id": "0fe165ec",
   "metadata": {},
   "outputs": [],
   "source": [
    "# Putting a threshold (OTSU)\n",
    "# pixels with value below 100 are turned black (0) and those with higher value are turned white (255)\n",
    "ret, thresh1 = cv2.threshold(img_gray, 100, 255, cv2.THRESH_OTSU | cv2.THRESH_BINARY)"
   ]
  },
  {
   "cell_type": "code",
   "execution_count": null,
   "id": "69de9276",
   "metadata": {},
   "outputs": [],
   "source": [
    "# Specify structure shape and kernel size.\n",
    "rect_kernel = cv2.getStructuringElement(cv2.MORPH_RECT, (18, 18))\n",
    " \n",
    "# Applying dilation on the threshold image\n",
    "dilation = cv2.dilate(thresh1, rect_kernel, iterations = 1)"
   ]
  },
  {
   "cell_type": "code",
   "execution_count": null,
   "id": "37c63c93",
   "metadata": {},
   "outputs": [],
   "source": [
    "# Finding contours\n",
    "contours, hierarchy = cv2.findContours(dilation, cv2.RETR_EXTERNAL, cv2.CHAIN_APPROX_NONE)"
   ]
  },
  {
   "cell_type": "markdown",
   "id": "8ff9a0fa",
   "metadata": {},
   "source": [
    "## Text Detection"
   ]
  },
  {
   "cell_type": "code",
   "execution_count": null,
   "id": "b153de6a",
   "metadata": {},
   "outputs": [],
   "source": [
    "# text detection\n",
    "# Looping through the identified contours\n",
    "\n",
    "for cnt in contours:\n",
    "    x, y, w, h = cv2.boundingRect(cnt)\n",
    "     \n",
    "    # Drawing a rectangle on copied image\n",
    "    rect_img = cv2.rectangle(img, (x, y), (x + w, y + h), (0, 255, 0), 2)\n",
    "    # Showing image after detecting text\n",
    "    plt.imshow(rect_img) \n",
    "    # Apply OCR on the cropped image\n",
    "    text = pytesseract.image_to_string(rect_img)\n",
    "    # Append text to a file\n",
    "    with open(\"recognized.txt\", \"a\") as file:\n",
    "        file.write(f\"\\n{text}\")\n",
    "print(\"Text has been saved in 'recognized.txt' \\n\")\n",
    "print(f\"The extracted text:\\n\\n{text}\")"
   ]
  },
  {
   "cell_type": "code",
   "execution_count": null,
   "id": "10871ed6",
   "metadata": {},
   "outputs": [],
   "source": []
  }
 ],
 "metadata": {
  "kernelspec": {
   "display_name": "Python 3 (ipykernel)",
   "language": "python",
   "name": "python3"
  },
  "language_info": {
   "codemirror_mode": {
    "name": "ipython",
    "version": 3
   },
   "file_extension": ".py",
   "mimetype": "text/x-python",
   "name": "python",
   "nbconvert_exporter": "python",
   "pygments_lexer": "ipython3",
   "version": "3.9.13"
  }
 },
 "nbformat": 4,
 "nbformat_minor": 5
}
