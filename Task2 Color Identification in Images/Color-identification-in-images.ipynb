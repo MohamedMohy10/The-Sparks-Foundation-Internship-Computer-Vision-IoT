{
 "cells": [
  {
   "cell_type": "markdown",
   "id": "65554184",
   "metadata": {},
   "source": [
    "# Name: Mohamed Mohy"
   ]
  },
  {
   "cell_type": "markdown",
   "id": "f26fdeb1",
   "metadata": {},
   "source": [
    "# Task2 : Color Identification in Images"
   ]
  },
  {
   "cell_type": "code",
   "execution_count": null,
   "id": "33bc0571",
   "metadata": {},
   "outputs": [],
   "source": [
    "# import libraries and modules\n",
    "import cv2\n",
    "import numpy as np\n",
    "from collections import Counter\n",
    "from sklearn.cluster import KMeans\n",
    "import matplotlib.pyplot as plt\n",
    "import os\n",
    "import warnings\n",
    "warnings.filterwarnings(\"ignore\")\n",
    "\n",
    "%matplotlib inline"
   ]
  },
  {
   "cell_type": "code",
   "execution_count": null,
   "id": "d1cd0b1c",
   "metadata": {},
   "outputs": [],
   "source": [
    "# Read image \n",
    "# BGR\n",
    "image = cv2.imread('img0.jpg')\n",
    "plt.imshow(image)"
   ]
  },
  {
   "cell_type": "code",
   "execution_count": null,
   "id": "8535f91f",
   "metadata": {},
   "outputs": [],
   "source": [
    "# Converting to RGB to view the image in original colours\n",
    "image = cv2.cvtColor(image, cv2.COLOR_BGR2RGB)\n",
    "plt.imshow(image)"
   ]
  },
  {
   "cell_type": "code",
   "execution_count": null,
   "id": "e9dbdf32",
   "metadata": {},
   "outputs": [],
   "source": [
    "# Wrappimg the above steps in a single function which load image and convert it to RGB directly\n",
    "def get_image(image_path):\n",
    "    image = cv2.imread(image_path)\n",
    "    image = cv2.cvtColor(image, cv2.COLOR_BGR2RGB)\n",
    "    return image"
   ]
  },
  {
   "cell_type": "code",
   "execution_count": null,
   "id": "1404a998",
   "metadata": {},
   "outputs": [],
   "source": [
    "# function to Convert RGB to HEX\n",
    "def RGB2HEX(color):\n",
    "    return \"#{:02x}{:02x}{:02x}\".format(int(color[0]), int(color[1]), int(color[2]))"
   ]
  },
  {
   "cell_type": "code",
   "execution_count": null,
   "id": "8d3683e0",
   "metadata": {},
   "outputs": [],
   "source": [
    "# color identification method\n",
    "def get_colors(image, number_of_colors, show_chart):\n",
    "    \n",
    "    # Resize image and convert it to 2-D \n",
    "    modified_image = cv2.resize(image, (600, 400), interpolation = cv2.INTER_AREA)\n",
    "    modified_image = modified_image.reshape(modified_image.shape[0]*modified_image.shape[1],3)\n",
    "    \n",
    "    # Applying KMeans algorithm\n",
    "    clf = KMeans(n_clusters = number_of_colors)\n",
    "    labels = clf.fit_predict(modified_image)\n",
    "    \n",
    "    counts = Counter(labels)\n",
    "    counts = dict(sorted(counts.items()))\n",
    "    \n",
    "    center_colors = clf.cluster_centers_\n",
    "    ordered_colors = [center_colors[i] for i in counts.keys()]\n",
    "    hex_colors = [RGB2HEX(ordered_colors[i]) for i in counts.keys()]\n",
    "    rgb_colors = [ordered_colors[i] for i in counts.keys()]\n",
    "    if (show_chart):\n",
    "        plt.figure(figsize=(10,20))\n",
    "        plt.subplot(1,2,1)\n",
    "        plt.imshow(image)\n",
    "        plt.subplot(1,2,2)\n",
    "        plt.pie(counts.values(), labels = hex_colors, colors = hex_colors)\n",
    "        plt.title(\"Color Identification\", fontsize=25)\n",
    "        return rgb_colors"
   ]
  },
  {
   "cell_type": "code",
   "execution_count": null,
   "id": "d5c8e79c",
   "metadata": {},
   "outputs": [],
   "source": [
    "image_path = './img0.jpg'\n",
    "get_colors(get_image(image_path), 8, True)"
   ]
  },
  {
   "cell_type": "code",
   "execution_count": null,
   "id": "507ef575",
   "metadata": {},
   "outputs": [],
   "source": [
    "# Color identification for a set of images inside a folder\n",
    "IMAGE_DIRECTORY = r'images'\n",
    "images = []\n",
    "\n",
    "for file in os.listdir(IMAGE_DIRECTORY):\n",
    "    if not file.startswith('.'):\n",
    "        images.append(get_image(os.path.join(IMAGE_DIRECTORY, file)))"
   ]
  },
  {
   "cell_type": "code",
   "execution_count": null,
   "id": "c7e25e4e",
   "metadata": {},
   "outputs": [],
   "source": [
    "# Viewing images\n",
    "plt.figure(figsize=(20, 10))\n",
    "for i in range(len(images)):\n",
    "    plt.subplot(2, len(images)//2, i+1)\n",
    "    plt.imshow(images[i])"
   ]
  },
  {
   "cell_type": "code",
   "execution_count": null,
   "id": "988d299d",
   "metadata": {},
   "outputs": [],
   "source": [
    "# color identification method for multiple images\n",
    "def get_colors_mult(images):    \n",
    "    for i in range(len(images)):\n",
    "        get_colors(images[i], 8, True)"
   ]
  },
  {
   "cell_type": "code",
   "execution_count": null,
   "id": "4907eb45",
   "metadata": {
    "scrolled": false
   },
   "outputs": [],
   "source": [
    "get_colors_mult(images)"
   ]
  },
  {
   "cell_type": "code",
   "execution_count": null,
   "id": "22a896a3",
   "metadata": {},
   "outputs": [],
   "source": []
  }
 ],
 "metadata": {
  "kernelspec": {
   "display_name": "Python 3 (ipykernel)",
   "language": "python",
   "name": "python3"
  },
  "language_info": {
   "codemirror_mode": {
    "name": "ipython",
    "version": 3
   },
   "file_extension": ".py",
   "mimetype": "text/x-python",
   "name": "python",
   "nbconvert_exporter": "python",
   "pygments_lexer": "ipython3",
   "version": "3.9.13"
  }
 },
 "nbformat": 4,
 "nbformat_minor": 5
}
