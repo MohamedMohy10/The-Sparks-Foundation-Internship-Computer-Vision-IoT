{
 "cells": [
  {
   "cell_type": "markdown",
   "id": "83923b0e",
   "metadata": {},
   "source": [
    "# Name: Mohamed Mohy"
   ]
  },
  {
   "cell_type": "markdown",
   "id": "8996979d",
   "metadata": {},
   "source": [
    "# Task4 : Face Mask Detection"
   ]
  },
  {
   "cell_type": "code",
   "execution_count": 1,
   "id": "0da9ae65",
   "metadata": {},
   "outputs": [],
   "source": [
    "import numpy as np\n",
    "import cv2\n",
    "import random"
   ]
  },
  {
   "cell_type": "code",
   "execution_count": 2,
   "id": "cd969f8f",
   "metadata": {},
   "outputs": [],
   "source": [
    "# Creating Cascades\n",
    "face_cascade = cv2.CascadeClassifier('data\\\\xml\\\\haarcascade_frontalface_default.xml')\n",
    "eye_cascade = cv2.CascadeClassifier('data\\\\xml\\\\haarcascade_eye.xml')\n",
    "mouth_cascade = cv2.CascadeClassifier('data\\\\xml\\\\haarcascade_mcs_mouth.xml')\n",
    "upper_body = cv2.CascadeClassifier('data\\\\xml\\\\haarcascade_upperbody.xml')"
   ]
  },
  {
   "cell_type": "code",
   "execution_count": 3,
   "id": "62816b4f",
   "metadata": {},
   "outputs": [],
   "source": [
    "# Adjust threshold based on lighting conditions ex: 110\n",
    "bw_threshold = 110\n",
    "\n",
    "# User message\n",
    "font = cv2.FONT_HERSHEY_SIMPLEX\n",
    "org = (30, 30)\n",
    "weared_mask_font_color = (255, 255, 255)\n",
    "not_weared_mask_font_color = (0, 0, 255)\n",
    "thickness = 2\n",
    "font_scale = 1\n",
    "weared_mask = \"Wearing Mask\"\n",
    "not_weared_mask = \"Not Wearing Mask !!\""
   ]
  },
  {
   "cell_type": "code",
   "execution_count": 4,
   "id": "b0a219e0",
   "metadata": {},
   "outputs": [],
   "source": [
    "# Read video\n",
    "cap = cv2.VideoCapture(0)"
   ]
  },
  {
   "cell_type": "code",
   "execution_count": 5,
   "id": "632962df",
   "metadata": {},
   "outputs": [],
   "source": [
    "# Main Program\n",
    "while True:\n",
    "    # Get individual frame\n",
    "    ret, img = cap.read()\n",
    "    img = cv2.flip(img,1)\n",
    "\n",
    "    # Convert BGR Image to grayscale\n",
    "    gray = cv2.cvtColor(img, cv2.COLOR_BGR2GRAY)\n",
    "\n",
    "    # Convert image to black and white\n",
    "    (thresh, black_and_white) = cv2.threshold(gray, bw_threshold, 255, cv2.THRESH_BINARY)\n",
    "\n",
    "    # detect face\n",
    "    faces = face_cascade.detectMultiScale(gray, 1.1, 4)\n",
    "\n",
    "    # Face prediction for black and white\n",
    "    faces_bw = face_cascade.detectMultiScale(black_and_white, 1.1, 4)\n",
    "\n",
    "\n",
    "    if(len(faces) == 0 and len(faces_bw) == 0):\n",
    "        cv2.putText(img, \"No face detected ...\", org, font, font_scale, weared_mask_font_color, thickness, cv2.LINE_AA)\n",
    "    elif(len(faces) == 0 and len(faces_bw) == 1):\n",
    "        # For the case of white mask covering mouth, with gray image face prediction fails\n",
    "        cv2.putText(img, weared_mask, org, font, font_scale, weared_mask_font_color, thickness, cv2.LINE_AA)\n",
    "    else:\n",
    "        # Draw rectangle on gace\n",
    "        for (x, y, w, h) in faces:\n",
    "            cv2.rectangle(img, (x, y), (x + w, y + h), (255, 255, 255), 2)\n",
    "            roi_gray = gray[y:y + h, x:x + w]\n",
    "            roi_color = img[y:y + h, x:x + w]\n",
    "\n",
    "\n",
    "            # Detect lips counters\n",
    "            mouth_rects = mouth_cascade.detectMultiScale(gray, 1.5, 5)\n",
    "        # Face detected but Lips not detected which means person is wearing mask\n",
    "        if(len(mouth_rects) == 0):\n",
    "            cv2.putText(img, weared_mask, org, font, font_scale, weared_mask_font_color, thickness, cv2.LINE_AA)\n",
    "        else:\n",
    "            for (mx, my, mw, mh) in mouth_rects:\n",
    "\n",
    "                if(y < my < y + h):\n",
    "                    # Face and Lips are detected but lips coordinates are within face cordinates which means lips prediction is true and\n",
    "                    # person is not waring mask\n",
    "                    cv2.putText(img, not_weared_mask, org, font, font_scale, not_weared_mask_font_color, thickness, cv2.LINE_AA)\n",
    "\n",
    "                    cv2.rectangle(img, (mx, my), (mx + mh, my + mw), (0, 0, 255), 3)\n",
    "                    break\n",
    "\n",
    "            \n",
    "\n",
    "    # Show frame with results\n",
    "    cv2.imshow('Mask Detection', img)\n",
    "    k = cv2.waitKey(30) & 0xff # Press Esc key to quit\n",
    "    if k == 27:\n",
    "        break\n",
    "\n",
    "# Release video\n",
    "cap.release()\n",
    "cv2.destroyAllWindows()"
   ]
  },
  {
   "cell_type": "code",
   "execution_count": null,
   "id": "a800ce79",
   "metadata": {},
   "outputs": [],
   "source": []
  }
 ],
 "metadata": {
  "kernelspec": {
   "display_name": "Python 3 (ipykernel)",
   "language": "python",
   "name": "python3"
  },
  "language_info": {
   "codemirror_mode": {
    "name": "ipython",
    "version": 3
   },
   "file_extension": ".py",
   "mimetype": "text/x-python",
   "name": "python",
   "nbconvert_exporter": "python",
   "pygments_lexer": "ipython3",
   "version": "3.9.13"
  }
 },
 "nbformat": 4,
 "nbformat_minor": 5
}
